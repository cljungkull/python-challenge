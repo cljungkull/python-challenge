{
 "cells": [
  {
   "cell_type": "code",
   "execution_count": 164,
   "metadata": {},
   "outputs": [],
   "source": [
    "import pandas as pd"
   ]
  },
  {
   "cell_type": "code",
   "execution_count": 175,
   "metadata": {
    "scrolled": false
   },
   "outputs": [],
   "source": [
    "'create variabled for calculations'\n",
    "totalMonths = 0\n",
    "totalRevenue = 0\n",
    "prevRevenue = 0\n",
    "averageChange = 0\n",
    "greatestRevIncAmt = 0\n",
    "greatestRevDecAmt = 0\n",
    "\n",
    "'locate the csv'\n",
    "bank_csv_path = \"03-Python_homework_PyBank_Resources_budget_data (1).csv\"\n",
    "\n",
    "bank_data = pd.read_csv(bank_csv_path, delimiter=',')"
   ]
  },
  {
   "cell_type": "code",
   "execution_count": 232,
   "metadata": {},
   "outputs": [],
   "source": [
    "totalMonths = bank_data.shape[0]\n"
   ]
  },
  {
   "cell_type": "code",
   "execution_count": 233,
   "metadata": {},
   "outputs": [],
   "source": [
    "totalRevenue = bank_data['Profit/Losses'].sum()\n"
   ]
  },
  {
   "cell_type": "code",
   "execution_count": 228,
   "metadata": {},
   "outputs": [],
   "source": [
    "'Finding the average change in profits'\n",
    "bank_data['averageChange'] = bank_data['Profit/Losses'].diff()\n",
    "averageChange = bank_data[\"averageChange\"].mean()\n",
    "averageChange = str(round(averageChange, 2))\n"
   ]
  },
  {
   "cell_type": "code",
   "execution_count": 230,
   "metadata": {},
   "outputs": [
    {
     "data": {
      "text/html": [
       "<div>\n",
       "<style scoped>\n",
       "    .dataframe tbody tr th:only-of-type {\n",
       "        vertical-align: middle;\n",
       "    }\n",
       "\n",
       "    .dataframe tbody tr th {\n",
       "        vertical-align: top;\n",
       "    }\n",
       "\n",
       "    .dataframe thead th {\n",
       "        text-align: right;\n",
       "    }\n",
       "</style>\n",
       "<table border=\"1\" class=\"dataframe\">\n",
       "  <thead>\n",
       "    <tr style=\"text-align: right;\">\n",
       "      <th></th>\n",
       "      <th>Date</th>\n",
       "      <th>Profit/Losses</th>\n",
       "      <th>averageChange</th>\n",
       "    </tr>\n",
       "  </thead>\n",
       "  <tbody>\n",
       "    <tr>\n",
       "      <th>25</th>\n",
       "      <td>Feb-2012</td>\n",
       "      <td>1170593</td>\n",
       "      <td>1926159.0</td>\n",
       "    </tr>\n",
       "    <tr>\n",
       "      <th>44</th>\n",
       "      <td>Sep-2013</td>\n",
       "      <td>-1196225</td>\n",
       "      <td>-2196167.0</td>\n",
       "    </tr>\n",
       "  </tbody>\n",
       "</table>\n",
       "</div>"
      ],
      "text/plain": [
       "        Date  Profit/Losses  averageChange\n",
       "25  Feb-2012        1170593      1926159.0\n",
       "44  Sep-2013       -1196225     -2196167.0"
      ]
     },
     "execution_count": 230,
     "metadata": {},
     "output_type": "execute_result"
    }
   ],
   "source": [
    "'Greatest increase/decrease in profits'\n",
    "bank_data.iloc[[bank_data['Profit/Losses'].idxmax(),bank_data['Profit/Losses'].idxmin()]]"
   ]
  },
  {
   "cell_type": "code",
   "execution_count": 234,
   "metadata": {},
   "outputs": [
    {
     "data": {
      "text/plain": [
       "('Greatest Decrese in Profits', {44})"
      ]
     },
     "execution_count": 234,
     "metadata": {},
     "output_type": "execute_result"
    }
   ],
   "source": [
    "f\"Financial Analysis\"\n",
    "f\"-----------------------------\"\n",
    "f\"Total Months\", {bank_data.shape[0]}\n",
    "f\"Total\", {bank_data['Profit/Losses'].sum()}\n",
    "f\"Average Change\", {averageChange}\n",
    "f\"Greatest Increase in Profits\", {bank_data['Profit/Losses'].idxmax()}\n",
    "f\"Greatest Decrese in Profits\", {bank_data['Profit/Losses'].idxmin()}"
   ]
  },
  {
   "cell_type": "code",
   "execution_count": 226,
   "metadata": {},
   "outputs": [],
   "source": [
    "\n"
   ]
  }
 ],
 "metadata": {
  "kernelspec": {
   "display_name": "Python 3",
   "language": "python",
   "name": "python3"
  },
  "language_info": {
   "codemirror_mode": {
    "name": "ipython",
    "version": 3
   },
   "file_extension": ".py",
   "mimetype": "text/x-python",
   "name": "python",
   "nbconvert_exporter": "python",
   "pygments_lexer": "ipython3",
   "version": "3.6.8"
  }
 },
 "nbformat": 4,
 "nbformat_minor": 2
}
