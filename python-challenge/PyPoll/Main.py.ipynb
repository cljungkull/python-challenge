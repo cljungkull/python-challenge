{
 "cells": [
  {
   "cell_type": "code",
   "execution_count": 6,
   "metadata": {},
   "outputs": [],
   "source": [
    "import pandas as pd\n",
    "import numpy as np\n",
    "import csv\n",
    "\n",
    "total_votes = 0\n",
    "candidate = \"\"\n",
    "candidate_votes = {}\n",
    "candidate_percentages ={}\n",
    "winner_votes = 0\n",
    "winner = \"\""
   ]
  },
  {
   "cell_type": "code",
   "execution_count": 9,
   "metadata": {},
   "outputs": [
    {
     "name": "stdout",
     "output_type": "stream",
     "text": [
      "['Voter ID', 'County', 'Candidate']\n",
      "{'Khan': 2218231, 'Correy': 704200, 'Li': 492940, \"O'Tooley\": 105630}\n"
     ]
    }
   ],
   "source": [
    "'locate csv'\n",
    "filepath = \"03-Python_homework_PyPoll_Resources_election_data.csv\"\n",
    "with open(filepath,'r', newline=\"\") as csvfile:\n",
    "    csvreader = csv.reader(csvfile, delimiter=\",\")\n",
    "    row = next(csvreader)\n",
    "    print(row)\n",
    "    \n",
    "    for row in csvreader:\n",
    "        candidate = row[2]\n",
    "        if candidate in candidate_votes:\n",
    "            candidate_votes[candidate] += 1\n",
    "        else :\n",
    "            candidate_votes[candidate] = 1\n",
    "\n",
    "print(candidate_votes)"
   ]
  },
  {
   "cell_type": "code",
   "execution_count": 11,
   "metadata": {},
   "outputs": [
    {
     "name": "stdout",
     "output_type": "stream",
     "text": [
      "3521001\n"
     ]
    }
   ],
   "source": [
    "for count in candidate_votes.values():\n",
    "    total_votes += count\n",
    "    \n",
    "print(total_votes)"
   ]
  },
  {
   "cell_type": "code",
   "execution_count": 24,
   "metadata": {},
   "outputs": [
    {
     "name": "stdout",
     "output_type": "stream",
     "text": [
      "-------------------------\n",
      "Election Results\n",
      "-------------------------\n",
      "Total Votes: 3521001\n",
      "-------------------------\n",
      "Khan: 63.000% (3521001)\n",
      "Correy: 20.000% (3521001)\n",
      "Li: 14.000% (3521001)\n",
      "O'Tooley:  3.000% (3521001)\n",
      "-------------------------\n",
      "Winner: Khan\n",
      "-------------------------\n"
     ]
    }
   ],
   "source": [
    "fout = open('PyPoll Text.txt', \"w\")\n",
    "CR = '\\n'\n",
    "bar = \"-\"*25\n",
    "print(bar)\n",
    "fout.write(bar + CR)\n",
    "\n",
    "s = \"Election Results\"\n",
    "print(s)\n",
    "fout.write(s + CR)\n",
    "\n",
    "print(bar)\n",
    "fout.write(bar + CR)\n",
    "s = f\"Total Votes: {total_votes}\"\n",
    "print(s)\n",
    "fout.write(s + CR)\n",
    "\n",
    "print(bar)\n",
    "fout.write(bar + CR)\n",
    "\n",
    "winner_name = None\n",
    "winner_count = 0\n",
    "for name, count in candidate_votes.items():\n",
    "    pct = 100*count/total_votes\n",
    "    s = f\"{name}: {pct:6.3f}% ({total_votes})\"\n",
    "    print(s)\n",
    "    fout.write(s + CR)\n",
    "    if count > winner_count:\n",
    "        winner_name = name\n",
    "        winner_count = count\n",
    "\n",
    "print(bar)\n",
    "fout.write(bar + CR)\n",
    "s = f\"Winner: {winner_name}\"\n",
    "print(s)\n",
    "fout.write(s + CR)\n",
    "\n",
    "print(bar)\n",
    "fout.write(bar + CR)\n",
    "\n",
    "fout.close()"
   ]
  }
 ],
 "metadata": {
  "kernelspec": {
   "display_name": "Python 3",
   "language": "python",
   "name": "python3"
  },
  "language_info": {
   "codemirror_mode": {
    "name": "ipython",
    "version": 3
   },
   "file_extension": ".py",
   "mimetype": "text/x-python",
   "name": "python",
   "nbconvert_exporter": "python",
   "pygments_lexer": "ipython3",
   "version": "3.6.8"
  }
 },
 "nbformat": 4,
 "nbformat_minor": 2
}
